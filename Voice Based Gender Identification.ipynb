{
 "cells": [
  {
   "cell_type": "code",
   "execution_count": 1,
   "id": "b9223179",
   "metadata": {},
   "outputs": [],
   "source": [
    "import pandas as pd\n",
    "import numpy as np\n",
    "import matplotlib.pyplot as plt\n",
    "import seaborn as sns"
   ]
  },
  {
   "cell_type": "code",
   "execution_count": 2,
   "id": "c4598035",
   "metadata": {},
   "outputs": [],
   "source": [
    "df=pd.read_csv(\"voice.csv\")"
   ]
  },
  {
   "cell_type": "code",
   "execution_count": 3,
   "id": "93d2c06c",
   "metadata": {},
   "outputs": [
    {
     "data": {
      "text/html": [
       "<div>\n",
       "<style scoped>\n",
       "    .dataframe tbody tr th:only-of-type {\n",
       "        vertical-align: middle;\n",
       "    }\n",
       "\n",
       "    .dataframe tbody tr th {\n",
       "        vertical-align: top;\n",
       "    }\n",
       "\n",
       "    .dataframe thead th {\n",
       "        text-align: right;\n",
       "    }\n",
       "</style>\n",
       "<table border=\"1\" class=\"dataframe\">\n",
       "  <thead>\n",
       "    <tr style=\"text-align: right;\">\n",
       "      <th></th>\n",
       "      <th>meanfreq</th>\n",
       "      <th>sd</th>\n",
       "      <th>median</th>\n",
       "      <th>Q25</th>\n",
       "      <th>Q75</th>\n",
       "      <th>IQR</th>\n",
       "      <th>skew</th>\n",
       "      <th>kurt</th>\n",
       "      <th>sp.ent</th>\n",
       "      <th>sfm</th>\n",
       "      <th>...</th>\n",
       "      <th>centroid</th>\n",
       "      <th>meanfun</th>\n",
       "      <th>minfun</th>\n",
       "      <th>maxfun</th>\n",
       "      <th>meandom</th>\n",
       "      <th>mindom</th>\n",
       "      <th>maxdom</th>\n",
       "      <th>dfrange</th>\n",
       "      <th>modindx</th>\n",
       "      <th>label</th>\n",
       "    </tr>\n",
       "  </thead>\n",
       "  <tbody>\n",
       "    <tr>\n",
       "      <th>0</th>\n",
       "      <td>0.059781</td>\n",
       "      <td>0.064241</td>\n",
       "      <td>0.032027</td>\n",
       "      <td>0.015071</td>\n",
       "      <td>0.090193</td>\n",
       "      <td>0.075122</td>\n",
       "      <td>12.863462</td>\n",
       "      <td>274.402906</td>\n",
       "      <td>0.893369</td>\n",
       "      <td>0.491918</td>\n",
       "      <td>...</td>\n",
       "      <td>0.059781</td>\n",
       "      <td>0.084279</td>\n",
       "      <td>0.015702</td>\n",
       "      <td>0.275862</td>\n",
       "      <td>0.007812</td>\n",
       "      <td>0.007812</td>\n",
       "      <td>0.007812</td>\n",
       "      <td>0.000000</td>\n",
       "      <td>0.000000</td>\n",
       "      <td>male</td>\n",
       "    </tr>\n",
       "    <tr>\n",
       "      <th>1</th>\n",
       "      <td>0.066009</td>\n",
       "      <td>0.067310</td>\n",
       "      <td>0.040229</td>\n",
       "      <td>0.019414</td>\n",
       "      <td>0.092666</td>\n",
       "      <td>0.073252</td>\n",
       "      <td>22.423285</td>\n",
       "      <td>634.613855</td>\n",
       "      <td>0.892193</td>\n",
       "      <td>0.513724</td>\n",
       "      <td>...</td>\n",
       "      <td>0.066009</td>\n",
       "      <td>0.107937</td>\n",
       "      <td>0.015826</td>\n",
       "      <td>0.250000</td>\n",
       "      <td>0.009014</td>\n",
       "      <td>0.007812</td>\n",
       "      <td>0.054688</td>\n",
       "      <td>0.046875</td>\n",
       "      <td>0.052632</td>\n",
       "      <td>male</td>\n",
       "    </tr>\n",
       "    <tr>\n",
       "      <th>2</th>\n",
       "      <td>0.077316</td>\n",
       "      <td>0.083829</td>\n",
       "      <td>0.036718</td>\n",
       "      <td>0.008701</td>\n",
       "      <td>0.131908</td>\n",
       "      <td>0.123207</td>\n",
       "      <td>30.757155</td>\n",
       "      <td>1024.927705</td>\n",
       "      <td>0.846389</td>\n",
       "      <td>0.478905</td>\n",
       "      <td>...</td>\n",
       "      <td>0.077316</td>\n",
       "      <td>0.098706</td>\n",
       "      <td>0.015656</td>\n",
       "      <td>0.271186</td>\n",
       "      <td>0.007990</td>\n",
       "      <td>0.007812</td>\n",
       "      <td>0.015625</td>\n",
       "      <td>0.007812</td>\n",
       "      <td>0.046512</td>\n",
       "      <td>male</td>\n",
       "    </tr>\n",
       "    <tr>\n",
       "      <th>3</th>\n",
       "      <td>0.151228</td>\n",
       "      <td>0.072111</td>\n",
       "      <td>0.158011</td>\n",
       "      <td>0.096582</td>\n",
       "      <td>0.207955</td>\n",
       "      <td>0.111374</td>\n",
       "      <td>1.232831</td>\n",
       "      <td>4.177296</td>\n",
       "      <td>0.963322</td>\n",
       "      <td>0.727232</td>\n",
       "      <td>...</td>\n",
       "      <td>0.151228</td>\n",
       "      <td>0.088965</td>\n",
       "      <td>0.017798</td>\n",
       "      <td>0.250000</td>\n",
       "      <td>0.201497</td>\n",
       "      <td>0.007812</td>\n",
       "      <td>0.562500</td>\n",
       "      <td>0.554688</td>\n",
       "      <td>0.247119</td>\n",
       "      <td>male</td>\n",
       "    </tr>\n",
       "    <tr>\n",
       "      <th>4</th>\n",
       "      <td>0.135120</td>\n",
       "      <td>0.079146</td>\n",
       "      <td>0.124656</td>\n",
       "      <td>0.078720</td>\n",
       "      <td>0.206045</td>\n",
       "      <td>0.127325</td>\n",
       "      <td>1.101174</td>\n",
       "      <td>4.333713</td>\n",
       "      <td>0.971955</td>\n",
       "      <td>0.783568</td>\n",
       "      <td>...</td>\n",
       "      <td>0.135120</td>\n",
       "      <td>0.106398</td>\n",
       "      <td>0.016931</td>\n",
       "      <td>0.266667</td>\n",
       "      <td>0.712812</td>\n",
       "      <td>0.007812</td>\n",
       "      <td>5.484375</td>\n",
       "      <td>5.476562</td>\n",
       "      <td>0.208274</td>\n",
       "      <td>male</td>\n",
       "    </tr>\n",
       "  </tbody>\n",
       "</table>\n",
       "<p>5 rows × 21 columns</p>\n",
       "</div>"
      ],
      "text/plain": [
       "   meanfreq        sd    median       Q25       Q75       IQR       skew  \\\n",
       "0  0.059781  0.064241  0.032027  0.015071  0.090193  0.075122  12.863462   \n",
       "1  0.066009  0.067310  0.040229  0.019414  0.092666  0.073252  22.423285   \n",
       "2  0.077316  0.083829  0.036718  0.008701  0.131908  0.123207  30.757155   \n",
       "3  0.151228  0.072111  0.158011  0.096582  0.207955  0.111374   1.232831   \n",
       "4  0.135120  0.079146  0.124656  0.078720  0.206045  0.127325   1.101174   \n",
       "\n",
       "          kurt    sp.ent       sfm  ...  centroid   meanfun    minfun  \\\n",
       "0   274.402906  0.893369  0.491918  ...  0.059781  0.084279  0.015702   \n",
       "1   634.613855  0.892193  0.513724  ...  0.066009  0.107937  0.015826   \n",
       "2  1024.927705  0.846389  0.478905  ...  0.077316  0.098706  0.015656   \n",
       "3     4.177296  0.963322  0.727232  ...  0.151228  0.088965  0.017798   \n",
       "4     4.333713  0.971955  0.783568  ...  0.135120  0.106398  0.016931   \n",
       "\n",
       "     maxfun   meandom    mindom    maxdom   dfrange   modindx  label  \n",
       "0  0.275862  0.007812  0.007812  0.007812  0.000000  0.000000   male  \n",
       "1  0.250000  0.009014  0.007812  0.054688  0.046875  0.052632   male  \n",
       "2  0.271186  0.007990  0.007812  0.015625  0.007812  0.046512   male  \n",
       "3  0.250000  0.201497  0.007812  0.562500  0.554688  0.247119   male  \n",
       "4  0.266667  0.712812  0.007812  5.484375  5.476562  0.208274   male  \n",
       "\n",
       "[5 rows x 21 columns]"
      ]
     },
     "execution_count": 3,
     "metadata": {},
     "output_type": "execute_result"
    }
   ],
   "source": [
    "df.head()\n"
   ]
  },
  {
   "cell_type": "code",
   "execution_count": 4,
   "id": "7e19859d",
   "metadata": {},
   "outputs": [
    {
     "data": {
      "text/plain": [
       "(3168, 21)"
      ]
     },
     "execution_count": 4,
     "metadata": {},
     "output_type": "execute_result"
    }
   ],
   "source": [
    "df.shape"
   ]
  },
  {
   "cell_type": "code",
   "execution_count": 5,
   "id": "ca5428cb",
   "metadata": {},
   "outputs": [
    {
     "name": "stdout",
     "output_type": "stream",
     "text": [
      "Index(['meanfreq', 'sd', 'median', 'Q25', 'Q75', 'IQR', 'skew', 'kurt',\n",
      "       'sp.ent', 'sfm', 'mode', 'centroid', 'meanfun', 'minfun', 'maxfun',\n",
      "       'meandom', 'mindom', 'maxdom', 'dfrange', 'modindx', 'label'],\n",
      "      dtype='object')\n"
     ]
    }
   ],
   "source": [
    "print(df.columns)"
   ]
  },
  {
   "cell_type": "code",
   "execution_count": 6,
   "id": "781e2bb2",
   "metadata": {},
   "outputs": [
    {
     "data": {
      "text/plain": [
       "meanfreq    0\n",
       "sd          0\n",
       "median      0\n",
       "Q25         0\n",
       "Q75         0\n",
       "IQR         0\n",
       "skew        0\n",
       "kurt        0\n",
       "sp.ent      0\n",
       "sfm         0\n",
       "mode        0\n",
       "centroid    0\n",
       "meanfun     0\n",
       "minfun      0\n",
       "maxfun      0\n",
       "meandom     0\n",
       "mindom      0\n",
       "maxdom      0\n",
       "dfrange     0\n",
       "modindx     0\n",
       "label       0\n",
       "dtype: int64"
      ]
     },
     "execution_count": 6,
     "metadata": {},
     "output_type": "execute_result"
    }
   ],
   "source": [
    "df.isnull().sum()"
   ]
  },
  {
   "cell_type": "code",
   "execution_count": 7,
   "id": "91491f04",
   "metadata": {},
   "outputs": [
    {
     "name": "stdout",
     "output_type": "stream",
     "text": [
      "<class 'pandas.core.frame.DataFrame'>\n",
      "RangeIndex: 3168 entries, 0 to 3167\n",
      "Data columns (total 21 columns):\n",
      " #   Column    Non-Null Count  Dtype  \n",
      "---  ------    --------------  -----  \n",
      " 0   meanfreq  3168 non-null   float64\n",
      " 1   sd        3168 non-null   float64\n",
      " 2   median    3168 non-null   float64\n",
      " 3   Q25       3168 non-null   float64\n",
      " 4   Q75       3168 non-null   float64\n",
      " 5   IQR       3168 non-null   float64\n",
      " 6   skew      3168 non-null   float64\n",
      " 7   kurt      3168 non-null   float64\n",
      " 8   sp.ent    3168 non-null   float64\n",
      " 9   sfm       3168 non-null   float64\n",
      " 10  mode      3168 non-null   float64\n",
      " 11  centroid  3168 non-null   float64\n",
      " 12  meanfun   3168 non-null   float64\n",
      " 13  minfun    3168 non-null   float64\n",
      " 14  maxfun    3168 non-null   float64\n",
      " 15  meandom   3168 non-null   float64\n",
      " 16  mindom    3168 non-null   float64\n",
      " 17  maxdom    3168 non-null   float64\n",
      " 18  dfrange   3168 non-null   float64\n",
      " 19  modindx   3168 non-null   float64\n",
      " 20  label     3168 non-null   object \n",
      "dtypes: float64(20), object(1)\n",
      "memory usage: 519.9+ KB\n"
     ]
    }
   ],
   "source": [
    "df.info() #INFO ABOUT EACH ATTRIBUTE"
   ]
  },
  {
   "cell_type": "code",
   "execution_count": 8,
   "id": "496648b5",
   "metadata": {},
   "outputs": [
    {
     "name": "stdout",
     "output_type": "stream",
     "text": [
      "male      1584\n",
      "female    1584\n",
      "Name: label, dtype: int64\n",
      "TOTAL:  3168\n"
     ]
    }
   ],
   "source": [
    "a=df.label.value_counts()\n",
    "print(a)\n",
    "print(\"TOTAL: \" ,df.label.count())"
   ]
  },
  {
   "cell_type": "code",
   "execution_count": null,
   "id": "9f8e2b83",
   "metadata": {},
   "outputs": [],
   "source": []
  },
  {
   "cell_type": "code",
   "execution_count": 9,
   "id": "886c87a6",
   "metadata": {},
   "outputs": [],
   "source": [
    "df.label = [1 if each ==\"female\" else 0 for each in df.label]\n",
    "# assign 1 to female and 0 to male."
   ]
  },
  {
   "cell_type": "code",
   "execution_count": 10,
   "id": "118dfd98",
   "metadata": {},
   "outputs": [
    {
     "data": {
      "text/plain": [
       "0       0\n",
       "1       0\n",
       "2       0\n",
       "3       0\n",
       "4       0\n",
       "       ..\n",
       "3163    1\n",
       "3164    1\n",
       "3165    1\n",
       "3166    1\n",
       "3167    1\n",
       "Name: label, Length: 3168, dtype: int64"
      ]
     },
     "execution_count": 10,
     "metadata": {},
     "output_type": "execute_result"
    }
   ],
   "source": [
    "df.label"
   ]
  },
  {
   "cell_type": "code",
   "execution_count": 11,
   "id": "4594f42b",
   "metadata": {},
   "outputs": [],
   "source": [
    "y = df.label.values\n",
    "x = df.drop(['label'],axis='columns')\n",
    "from sklearn.model_selection import train_test_split #importing class for spiliting\n",
    "x_train, x_test, y_train, y_test = train_test_split(x,y,test_size=0.2,random_state = 50)\n",
    "#test_size=0.2 means %20 test datas, %80train datas\n",
    "algo_names=[] #empty list\n",
    "algo_scores=[] #empty list\n"
   ]
  },
  {
   "cell_type": "code",
   "execution_count": 12,
   "id": "1772bc1f",
   "metadata": {},
   "outputs": [
    {
     "data": {
      "text/plain": [
       "(2534, 20)"
      ]
     },
     "execution_count": 12,
     "metadata": {},
     "output_type": "execute_result"
    }
   ],
   "source": [
    "x_train.shape"
   ]
  },
  {
   "cell_type": "code",
   "execution_count": 13,
   "id": "ec0d1096",
   "metadata": {},
   "outputs": [
    {
     "data": {
      "text/plain": [
       "(634, 20)"
      ]
     },
     "execution_count": 13,
     "metadata": {},
     "output_type": "execute_result"
    }
   ],
   "source": [
    "x_test.shape"
   ]
  },
  {
   "cell_type": "code",
   "execution_count": 14,
   "id": "47cfb5d2",
   "metadata": {},
   "outputs": [
    {
     "data": {
      "text/html": [
       "<div>\n",
       "<style scoped>\n",
       "    .dataframe tbody tr th:only-of-type {\n",
       "        vertical-align: middle;\n",
       "    }\n",
       "\n",
       "    .dataframe tbody tr th {\n",
       "        vertical-align: top;\n",
       "    }\n",
       "\n",
       "    .dataframe thead th {\n",
       "        text-align: right;\n",
       "    }\n",
       "</style>\n",
       "<table border=\"1\" class=\"dataframe\">\n",
       "  <thead>\n",
       "    <tr style=\"text-align: right;\">\n",
       "      <th></th>\n",
       "      <th>meanfreq</th>\n",
       "      <th>sd</th>\n",
       "      <th>median</th>\n",
       "      <th>Q25</th>\n",
       "      <th>Q75</th>\n",
       "      <th>IQR</th>\n",
       "      <th>skew</th>\n",
       "      <th>kurt</th>\n",
       "      <th>sp.ent</th>\n",
       "      <th>sfm</th>\n",
       "      <th>mode</th>\n",
       "      <th>centroid</th>\n",
       "      <th>meanfun</th>\n",
       "      <th>minfun</th>\n",
       "      <th>maxfun</th>\n",
       "      <th>meandom</th>\n",
       "      <th>mindom</th>\n",
       "      <th>maxdom</th>\n",
       "      <th>dfrange</th>\n",
       "      <th>modindx</th>\n",
       "    </tr>\n",
       "  </thead>\n",
       "  <tbody>\n",
       "    <tr>\n",
       "      <th>974</th>\n",
       "      <td>0.188291</td>\n",
       "      <td>0.060757</td>\n",
       "      <td>0.196792</td>\n",
       "      <td>0.128553</td>\n",
       "      <td>0.243459</td>\n",
       "      <td>0.114906</td>\n",
       "      <td>1.924342</td>\n",
       "      <td>6.921315</td>\n",
       "      <td>0.898536</td>\n",
       "      <td>0.359334</td>\n",
       "      <td>0.117107</td>\n",
       "      <td>0.188291</td>\n",
       "      <td>0.130205</td>\n",
       "      <td>0.048096</td>\n",
       "      <td>0.274286</td>\n",
       "      <td>1.341518</td>\n",
       "      <td>0.023438</td>\n",
       "      <td>5.414062</td>\n",
       "      <td>5.390625</td>\n",
       "      <td>0.112298</td>\n",
       "    </tr>\n",
       "    <tr>\n",
       "      <th>2769</th>\n",
       "      <td>0.187396</td>\n",
       "      <td>0.044700</td>\n",
       "      <td>0.185598</td>\n",
       "      <td>0.171349</td>\n",
       "      <td>0.206260</td>\n",
       "      <td>0.034911</td>\n",
       "      <td>2.454544</td>\n",
       "      <td>9.671798</td>\n",
       "      <td>0.878222</td>\n",
       "      <td>0.354332</td>\n",
       "      <td>0.174198</td>\n",
       "      <td>0.187396</td>\n",
       "      <td>0.155880</td>\n",
       "      <td>0.048534</td>\n",
       "      <td>0.277457</td>\n",
       "      <td>1.388672</td>\n",
       "      <td>0.023438</td>\n",
       "      <td>6.609375</td>\n",
       "      <td>6.585938</td>\n",
       "      <td>0.109103</td>\n",
       "    </tr>\n",
       "    <tr>\n",
       "      <th>1805</th>\n",
       "      <td>0.177266</td>\n",
       "      <td>0.033878</td>\n",
       "      <td>0.175619</td>\n",
       "      <td>0.166018</td>\n",
       "      <td>0.188938</td>\n",
       "      <td>0.022920</td>\n",
       "      <td>3.261121</td>\n",
       "      <td>14.297520</td>\n",
       "      <td>0.816742</td>\n",
       "      <td>0.226999</td>\n",
       "      <td>0.164469</td>\n",
       "      <td>0.177266</td>\n",
       "      <td>0.164342</td>\n",
       "      <td>0.020833</td>\n",
       "      <td>0.250000</td>\n",
       "      <td>0.596128</td>\n",
       "      <td>0.078125</td>\n",
       "      <td>6.203125</td>\n",
       "      <td>6.125000</td>\n",
       "      <td>0.146104</td>\n",
       "    </tr>\n",
       "    <tr>\n",
       "      <th>175</th>\n",
       "      <td>0.134962</td>\n",
       "      <td>0.062047</td>\n",
       "      <td>0.111388</td>\n",
       "      <td>0.088780</td>\n",
       "      <td>0.189571</td>\n",
       "      <td>0.100791</td>\n",
       "      <td>2.317095</td>\n",
       "      <td>9.072179</td>\n",
       "      <td>0.931091</td>\n",
       "      <td>0.560896</td>\n",
       "      <td>0.104794</td>\n",
       "      <td>0.134962</td>\n",
       "      <td>0.086565</td>\n",
       "      <td>0.016277</td>\n",
       "      <td>0.275862</td>\n",
       "      <td>0.329346</td>\n",
       "      <td>0.007812</td>\n",
       "      <td>4.265625</td>\n",
       "      <td>4.257812</td>\n",
       "      <td>0.132783</td>\n",
       "    </tr>\n",
       "    <tr>\n",
       "      <th>1919</th>\n",
       "      <td>0.097562</td>\n",
       "      <td>0.070847</td>\n",
       "      <td>0.071001</td>\n",
       "      <td>0.038766</td>\n",
       "      <td>0.158224</td>\n",
       "      <td>0.119458</td>\n",
       "      <td>1.430850</td>\n",
       "      <td>4.652448</td>\n",
       "      <td>0.952220</td>\n",
       "      <td>0.664712</td>\n",
       "      <td>0.038555</td>\n",
       "      <td>0.097562</td>\n",
       "      <td>0.148914</td>\n",
       "      <td>0.019851</td>\n",
       "      <td>0.222222</td>\n",
       "      <td>0.255774</td>\n",
       "      <td>0.007812</td>\n",
       "      <td>0.640625</td>\n",
       "      <td>0.632812</td>\n",
       "      <td>0.305836</td>\n",
       "    </tr>\n",
       "  </tbody>\n",
       "</table>\n",
       "</div>"
      ],
      "text/plain": [
       "      meanfreq        sd    median       Q25       Q75       IQR      skew  \\\n",
       "974   0.188291  0.060757  0.196792  0.128553  0.243459  0.114906  1.924342   \n",
       "2769  0.187396  0.044700  0.185598  0.171349  0.206260  0.034911  2.454544   \n",
       "1805  0.177266  0.033878  0.175619  0.166018  0.188938  0.022920  3.261121   \n",
       "175   0.134962  0.062047  0.111388  0.088780  0.189571  0.100791  2.317095   \n",
       "1919  0.097562  0.070847  0.071001  0.038766  0.158224  0.119458  1.430850   \n",
       "\n",
       "           kurt    sp.ent       sfm      mode  centroid   meanfun    minfun  \\\n",
       "974    6.921315  0.898536  0.359334  0.117107  0.188291  0.130205  0.048096   \n",
       "2769   9.671798  0.878222  0.354332  0.174198  0.187396  0.155880  0.048534   \n",
       "1805  14.297520  0.816742  0.226999  0.164469  0.177266  0.164342  0.020833   \n",
       "175    9.072179  0.931091  0.560896  0.104794  0.134962  0.086565  0.016277   \n",
       "1919   4.652448  0.952220  0.664712  0.038555  0.097562  0.148914  0.019851   \n",
       "\n",
       "        maxfun   meandom    mindom    maxdom   dfrange   modindx  \n",
       "974   0.274286  1.341518  0.023438  5.414062  5.390625  0.112298  \n",
       "2769  0.277457  1.388672  0.023438  6.609375  6.585938  0.109103  \n",
       "1805  0.250000  0.596128  0.078125  6.203125  6.125000  0.146104  \n",
       "175   0.275862  0.329346  0.007812  4.265625  4.257812  0.132783  \n",
       "1919  0.222222  0.255774  0.007812  0.640625  0.632812  0.305836  "
      ]
     },
     "execution_count": 14,
     "metadata": {},
     "output_type": "execute_result"
    }
   ],
   "source": [
    "x_train.head()"
   ]
  },
  {
   "cell_type": "code",
   "execution_count": 15,
   "id": "0ee21f91",
   "metadata": {},
   "outputs": [
    {
     "data": {
      "text/html": [
       "<div>\n",
       "<style scoped>\n",
       "    .dataframe tbody tr th:only-of-type {\n",
       "        vertical-align: middle;\n",
       "    }\n",
       "\n",
       "    .dataframe tbody tr th {\n",
       "        vertical-align: top;\n",
       "    }\n",
       "\n",
       "    .dataframe thead th {\n",
       "        text-align: right;\n",
       "    }\n",
       "</style>\n",
       "<table border=\"1\" class=\"dataframe\">\n",
       "  <thead>\n",
       "    <tr style=\"text-align: right;\">\n",
       "      <th></th>\n",
       "      <th>meanfreq</th>\n",
       "      <th>sd</th>\n",
       "      <th>median</th>\n",
       "      <th>Q25</th>\n",
       "      <th>Q75</th>\n",
       "      <th>IQR</th>\n",
       "      <th>skew</th>\n",
       "      <th>kurt</th>\n",
       "      <th>sp.ent</th>\n",
       "      <th>sfm</th>\n",
       "      <th>mode</th>\n",
       "      <th>centroid</th>\n",
       "      <th>meanfun</th>\n",
       "      <th>minfun</th>\n",
       "      <th>maxfun</th>\n",
       "      <th>meandom</th>\n",
       "      <th>mindom</th>\n",
       "      <th>maxdom</th>\n",
       "      <th>dfrange</th>\n",
       "      <th>modindx</th>\n",
       "    </tr>\n",
       "  </thead>\n",
       "  <tbody>\n",
       "    <tr>\n",
       "      <th>2014</th>\n",
       "      <td>0.142297</td>\n",
       "      <td>0.083138</td>\n",
       "      <td>0.169747</td>\n",
       "      <td>0.058402</td>\n",
       "      <td>0.217596</td>\n",
       "      <td>0.159194</td>\n",
       "      <td>1.963700</td>\n",
       "      <td>7.248161</td>\n",
       "      <td>0.955880</td>\n",
       "      <td>0.700716</td>\n",
       "      <td>0.229604</td>\n",
       "      <td>0.142297</td>\n",
       "      <td>0.178167</td>\n",
       "      <td>0.017877</td>\n",
       "      <td>0.238806</td>\n",
       "      <td>0.308190</td>\n",
       "      <td>0.007812</td>\n",
       "      <td>0.781250</td>\n",
       "      <td>0.773438</td>\n",
       "      <td>0.387335</td>\n",
       "    </tr>\n",
       "    <tr>\n",
       "      <th>2157</th>\n",
       "      <td>0.183551</td>\n",
       "      <td>0.033172</td>\n",
       "      <td>0.187811</td>\n",
       "      <td>0.178004</td>\n",
       "      <td>0.196637</td>\n",
       "      <td>0.018634</td>\n",
       "      <td>3.361455</td>\n",
       "      <td>14.422563</td>\n",
       "      <td>0.785318</td>\n",
       "      <td>0.235786</td>\n",
       "      <td>0.192715</td>\n",
       "      <td>0.183551</td>\n",
       "      <td>0.177953</td>\n",
       "      <td>0.060377</td>\n",
       "      <td>0.246154</td>\n",
       "      <td>0.622596</td>\n",
       "      <td>0.179688</td>\n",
       "      <td>5.765625</td>\n",
       "      <td>5.585938</td>\n",
       "      <td>0.167133</td>\n",
       "    </tr>\n",
       "    <tr>\n",
       "      <th>1931</th>\n",
       "      <td>0.162205</td>\n",
       "      <td>0.069786</td>\n",
       "      <td>0.182035</td>\n",
       "      <td>0.136821</td>\n",
       "      <td>0.210530</td>\n",
       "      <td>0.073709</td>\n",
       "      <td>4.105541</td>\n",
       "      <td>35.655663</td>\n",
       "      <td>0.930920</td>\n",
       "      <td>0.575286</td>\n",
       "      <td>0.000000</td>\n",
       "      <td>0.162205</td>\n",
       "      <td>0.149335</td>\n",
       "      <td>0.027257</td>\n",
       "      <td>0.225352</td>\n",
       "      <td>0.663462</td>\n",
       "      <td>0.007812</td>\n",
       "      <td>6.960938</td>\n",
       "      <td>6.953125</td>\n",
       "      <td>0.187743</td>\n",
       "    </tr>\n",
       "    <tr>\n",
       "      <th>1504</th>\n",
       "      <td>0.117170</td>\n",
       "      <td>0.076995</td>\n",
       "      <td>0.108125</td>\n",
       "      <td>0.050000</td>\n",
       "      <td>0.201406</td>\n",
       "      <td>0.151406</td>\n",
       "      <td>10.649260</td>\n",
       "      <td>228.008040</td>\n",
       "      <td>0.944999</td>\n",
       "      <td>0.653185</td>\n",
       "      <td>0.000000</td>\n",
       "      <td>0.117170</td>\n",
       "      <td>0.111191</td>\n",
       "      <td>0.015640</td>\n",
       "      <td>0.258065</td>\n",
       "      <td>0.081182</td>\n",
       "      <td>0.007812</td>\n",
       "      <td>1.343750</td>\n",
       "      <td>1.335938</td>\n",
       "      <td>0.094542</td>\n",
       "    </tr>\n",
       "    <tr>\n",
       "      <th>1712</th>\n",
       "      <td>0.240844</td>\n",
       "      <td>0.053585</td>\n",
       "      <td>0.256984</td>\n",
       "      <td>0.236169</td>\n",
       "      <td>0.268792</td>\n",
       "      <td>0.032623</td>\n",
       "      <td>3.203079</td>\n",
       "      <td>14.252101</td>\n",
       "      <td>0.824963</td>\n",
       "      <td>0.201548</td>\n",
       "      <td>0.268392</td>\n",
       "      <td>0.240844</td>\n",
       "      <td>0.225755</td>\n",
       "      <td>0.062745</td>\n",
       "      <td>0.275862</td>\n",
       "      <td>0.638849</td>\n",
       "      <td>0.007812</td>\n",
       "      <td>4.078125</td>\n",
       "      <td>4.070312</td>\n",
       "      <td>0.156384</td>\n",
       "    </tr>\n",
       "  </tbody>\n",
       "</table>\n",
       "</div>"
      ],
      "text/plain": [
       "      meanfreq        sd    median       Q25       Q75       IQR       skew  \\\n",
       "2014  0.142297  0.083138  0.169747  0.058402  0.217596  0.159194   1.963700   \n",
       "2157  0.183551  0.033172  0.187811  0.178004  0.196637  0.018634   3.361455   \n",
       "1931  0.162205  0.069786  0.182035  0.136821  0.210530  0.073709   4.105541   \n",
       "1504  0.117170  0.076995  0.108125  0.050000  0.201406  0.151406  10.649260   \n",
       "1712  0.240844  0.053585  0.256984  0.236169  0.268792  0.032623   3.203079   \n",
       "\n",
       "            kurt    sp.ent       sfm      mode  centroid   meanfun    minfun  \\\n",
       "2014    7.248161  0.955880  0.700716  0.229604  0.142297  0.178167  0.017877   \n",
       "2157   14.422563  0.785318  0.235786  0.192715  0.183551  0.177953  0.060377   \n",
       "1931   35.655663  0.930920  0.575286  0.000000  0.162205  0.149335  0.027257   \n",
       "1504  228.008040  0.944999  0.653185  0.000000  0.117170  0.111191  0.015640   \n",
       "1712   14.252101  0.824963  0.201548  0.268392  0.240844  0.225755  0.062745   \n",
       "\n",
       "        maxfun   meandom    mindom    maxdom   dfrange   modindx  \n",
       "2014  0.238806  0.308190  0.007812  0.781250  0.773438  0.387335  \n",
       "2157  0.246154  0.622596  0.179688  5.765625  5.585938  0.167133  \n",
       "1931  0.225352  0.663462  0.007812  6.960938  6.953125  0.187743  \n",
       "1504  0.258065  0.081182  0.007812  1.343750  1.335938  0.094542  \n",
       "1712  0.275862  0.638849  0.007812  4.078125  4.070312  0.156384  "
      ]
     },
     "execution_count": 15,
     "metadata": {},
     "output_type": "execute_result"
    }
   ],
   "source": [
    "x_train.tail()"
   ]
  },
  {
   "cell_type": "code",
   "execution_count": 16,
   "id": "1b0222bf",
   "metadata": {},
   "outputs": [
    {
     "name": "stdout",
     "output_type": "stream",
     "text": [
      "Decision Tree Classification Score:  0.9511041009463722\n"
     ]
    }
   ],
   "source": [
    "from sklearn.tree import DecisionTreeClassifier\n",
    "#importing decision tree classifier for applying model\n",
    "dec_tree = DecisionTreeClassifier(random_state = 50)\n",
    "dec_tree.fit(x_train,y_train)\n",
    "print(\"Decision Tree Classification Score: \",dec_tree.score(x_test,y_test)) #accuracy\n",
    "algo_names.append(\"Decision Tree\")\n",
    "algo_scores.append(dec_tree.score(x_test,y_test))\n",
    "p1=dec_tree.predict(x_test) #predicted values"
   ]
  },
  {
   "cell_type": "code",
   "execution_count": 17,
   "id": "e194911d",
   "metadata": {},
   "outputs": [
    {
     "name": "stdout",
     "output_type": "stream",
     "text": [
      "Random Forest classification Score:  0.973186119873817\n"
     ]
    }
   ],
   "source": [
    "from sklearn.ensemble import RandomForestClassifier\n",
    "#importing Random Forest Classifier for applying model\n",
    "rand_forest = RandomForestClassifier(random_state = 50)\n",
    "rand_forest.fit(x_train,y_train)\n",
    "print(\"Random Forest classification Score: \",rand_forest.score(x_test,y_test))\n",
    "algo_names.append(\"Random Forest\")\n",
    "algo_scores.append(rand_forest.score(x_test,y_test))\n",
    "p2=rand_forest.predict(x_test)"
   ]
  },
  {
   "cell_type": "code",
   "execution_count": 18,
   "id": "d40f50b0",
   "metadata": {},
   "outputs": [
    {
     "name": "stdout",
     "output_type": "stream",
     "text": [
      "SVM Classifiaction Score is: 0.6750788643533123\n"
     ]
    }
   ],
   "source": [
    "from sklearn.svm import SVC\n",
    "#importing the SVC class for applying the model\n",
    "svm = SVC(random_state = 50)\n",
    "svm.fit(x_train,y_train)\n",
    "print(\"SVM Classifiaction Score is: {}\".format(svm.score(x_test,y_test)))\n",
    "algo_names.append(\"SVM\")\n",
    "algo_scores.append(svm.score(x_test,y_test))\n",
    "p3=svm.predict(x_test)"
   ]
  },
  {
   "cell_type": "code",
   "execution_count": 19,
   "id": "dfb5ed73",
   "metadata": {},
   "outputs": [
    {
     "name": "stdout",
     "output_type": "stream",
     "text": [
      "Naive Bayes Classifcation Score: 0.8753943217665615\n"
     ]
    }
   ],
   "source": [
    "from sklearn.naive_bayes import GaussianNB\n",
    "naive_bayes = GaussianNB()\n",
    "naive_bayes.fit(x_test,y_test)\n",
    "print(\"Naive Bayes Classifcation Score: {}\".format(naive_bayes.score(x_test,y_test)))\n",
    "algo_names.append(\"Naive Bayes\")\n",
    "algo_scores.append(naive_bayes.score(x_test,y_test))\n",
    "p4=naive_bayes.predict(x_test)"
   ]
  },
  {
   "cell_type": "code",
   "execution_count": 90,
   "id": "8e17995a",
   "metadata": {},
   "outputs": [
    {
     "data": {
      "text/plain": [
       "Text(0, 0.5, 'Algorithm Score')"
      ]
     },
     "execution_count": 90,
     "metadata": {},
     "output_type": "execute_result"
    },
    {
     "data": {
      "image/png": "[encoded data removed]",
      "text/plain": [
       "<Figure size 864x720 with 1 Axes>"
      ]
     },
     "metadata": {
      "needs_background": "light"
     },
     "output_type": "display_data"
    }
   ],
   "source": [
    "plt.figure(figsize=(12,10))\n",
    "plt.ylim([0.60,1])\n",
    "plt.bar(algo_names,algo_scores,width=0.3,color=['green'])\n",
    "plt.xlabel('Algorithm Name')\n",
    "plt.ylabel('Algorithm Score')"
   ]
  },
  {
   "cell_type": "code",
   "execution_count": 91,
   "id": "3e079cb2",
   "metadata": {},
   "outputs": [],
   "source": [
    "from sklearn.metrics import classification_report #importing the appropriate function"
   ]
  },
  {
   "cell_type": "code",
   "execution_count": 92,
   "id": "7e928448",
   "metadata": {},
   "outputs": [
    {
     "name": "stdout",
     "output_type": "stream",
     "text": [
      "              precision    recall  f1-score   support\n",
      "\n",
      "           0       0.95      0.95      0.95       310\n",
      "           1       0.95      0.95      0.95       324\n",
      "\n",
      "    accuracy                           0.95       634\n",
      "   macro avg       0.95      0.95      0.95       634\n",
      "weighted avg       0.95      0.95      0.95       634\n",
      "\n"
     ]
    }
   ],
   "source": [
    "report_dec_tree=classification_report(y_test,p1)\n",
    "print(report_dec_tree)"
   ]
  },
  {
   "cell_type": "code",
   "execution_count": 93,
   "id": "f2c3992a",
   "metadata": {},
   "outputs": [
    {
     "name": "stdout",
     "output_type": "stream",
     "text": [
      "              precision    recall  f1-score   support\n",
      "\n",
      "           0       0.98      0.97      0.97       310\n",
      "           1       0.97      0.98      0.97       324\n",
      "\n",
      "    accuracy                           0.97       634\n",
      "   macro avg       0.97      0.97      0.97       634\n",
      "weighted avg       0.97      0.97      0.97       634\n",
      "\n"
     ]
    }
   ],
   "source": [
    "report_random_forest=classification_report(y_test,p2)\n",
    "print(report_random_forest)"
   ]
  },
  {
   "cell_type": "code",
   "execution_count": 94,
   "id": "ee4df35b",
   "metadata": {},
   "outputs": [
    {
     "name": "stdout",
     "output_type": "stream",
     "text": [
      "              precision    recall  f1-score   support\n",
      "\n",
      "           0       0.63      0.83      0.71       310\n",
      "           1       0.77      0.52      0.62       324\n",
      "\n",
      "    accuracy                           0.68       634\n",
      "   macro avg       0.70      0.68      0.67       634\n",
      "weighted avg       0.70      0.68      0.67       634\n",
      "\n"
     ]
    }
   ],
   "source": [
    "report_svm=classification_report(y_test,p3)\n",
    "print(report_svm)"
   ]
  },
  {
   "cell_type": "code",
   "execution_count": 95,
   "id": "a34b057a",
   "metadata": {},
   "outputs": [
    {
     "name": "stdout",
     "output_type": "stream",
     "text": [
      "              precision    recall  f1-score   support\n",
      "\n",
      "           0       0.86      0.89      0.87       310\n",
      "           1       0.89      0.86      0.88       324\n",
      "\n",
      "    accuracy                           0.88       634\n",
      "   macro avg       0.88      0.88      0.88       634\n",
      "weighted avg       0.88      0.88      0.88       634\n",
      "\n"
     ]
    }
   ],
   "source": [
    "report_naive_bayes=classification_report(y_test,p4)\n",
    "print(report_naive_bayes)"
   ]
  },
  {
   "cell_type": "code",
   "execution_count": 96,
   "id": "21b7f49f",
   "metadata": {},
   "outputs": [
    {
     "data": {
      "image/png": "[encoded data removed]",
      "text/plain": [
       "<Figure size 432x288 with 1 Axes>"
      ]
     },
     "metadata": {},
     "output_type": "display_data"
    }
   ],
   "source": [
    "comp1=[31.7,602.3]\n",
    "l1=['predicted wrong','predicted correct']\n",
    "plt.pie(comp1,labels=l1,autopct='%0.1f%%',colors=['red','pink'])\n",
    "plt.title('DECISION TREE PREDICTIONS')\n",
    "plt.show()"
   ]
  },
  {
   "cell_type": "code",
   "execution_count": 97,
   "id": "f96cc083",
   "metadata": {},
   "outputs": [
    {
     "data": {
      "image/png": "[encoded data removed]",
      "text/plain": [
       "<Figure size 432x288 with 1 Axes>"
      ]
     },
     "metadata": {},
     "output_type": "display_data"
    }
   ],
   "source": [
    "comp2=[12.68,621.32]\n",
    "l2=['predicted wrong','predicted correct']\n",
    "plt.pie(comp2,labels=l2,autopct='%0.1f%%',colors=['red','pink'])\n",
    "plt.title('RANDOM FOREST PREDICTIONS')\n",
    "plt.show()"
   ]
  },
  {
   "cell_type": "code",
   "execution_count": 98,
   "id": "1dd4d6aa",
   "metadata": {},
   "outputs": [
    {
     "data": {
      "image/png": "[encoded data removed]",
      "text/plain": [
       "<Figure size 432x288 with 1 Axes>"
      ]
     },
     "metadata": {},
     "output_type": "display_data"
    }
   ],
   "source": [
    "comp3=[171.18,462.82]\n",
    "l3=['predicted wrong','predicted correct']\n",
    "plt.pie(comp3,labels=l3,autopct='%0.1f%%',colors=['red','pink'])\n",
    "plt.title('SVM PREDICTIONS')\n",
    "plt.show()"
   ]
  },
  {
   "cell_type": "code",
   "execution_count": 99,
   "id": "b16e33cb",
   "metadata": {},
   "outputs": [
    {
     "data": {
      "image/png": "[encoded data removed]",
      "text/plain": [
       "<Figure size 432x288 with 1 Axes>"
      ]
     },
     "metadata": {},
     "output_type": "display_data"
    }
   ],
   "source": [
    "comp4=[76.08,557.92]\n",
    "l4=['predicted wrong','predicted correct']\n",
    "plt.pie(comp4,labels=l4,autopct='%0.1f%%',colors=['red','pink'])\n",
    "plt.title('NAIVE BAYES PREDICTIONS')\n",
    "plt.show()"
   ]
  },
  {
   "cell_type": "code",
   "execution_count": 100,
   "id": "1ae2dd5e",
   "metadata": {},
   "outputs": [],
   "source": [
    "from sklearn.metrics import confusion_matrix\n",
    "#importing"
   ]
  },
  {
   "cell_type": "code",
   "execution_count": 101,
   "id": "48f5285a",
   "metadata": {},
   "outputs": [
    {
     "data": {
      "image/png": "[encoded data removed]",
      "text/plain": [
       "<Figure size 432x432 with 2 Axes>"
      ]
     },
     "metadata": {
      "needs_background": "light"
     },
     "output_type": "display_data"
    }
   ],
   "source": [
    "conf_mat1 = confusion_matrix(y_test,p1) #passing test values and predicted values as parameters\n",
    "plt.figure(figsize=(6,6))\n",
    "sns.heatmap(conf_mat1,annot=True,fmt=\".0f\") #heatmap used for plotting\n",
    "plt.ylabel(\"ACTUAL\")\n",
    "plt.xlabel(\"PREDICTED\")\n",
    "plt.title(\"DECISION TREE CONFUSION MATRIX\")\n",
    "plt.show()"
   ]
  },
  {
   "cell_type": "code",
   "execution_count": 102,
   "id": "3e13946a",
   "metadata": {},
   "outputs": [
    {
     "data": {
      "image/png": "[encoded data removed]",
      "text/plain": [
       "<Figure size 432x432 with 2 Axes>"
      ]
     },
     "metadata": {
      "needs_background": "light"
     },
     "output_type": "display_data"
    }
   ],
   "source": [
    "conf_mat2 = confusion_matrix(y_test,p2) #passing test values and predicted values as parameters\n",
    "plt.figure(figsize=(6,6))\n",
    "sns.heatmap(conf_mat2,annot=True,fmt=\".0f\") #heatmap used for plotting\n",
    "plt.ylabel(\"ACTUAL\")\n",
    "plt.xlabel(\"PREDICTED\")\n",
    "plt.title(\"RANDOM FOREST CONFUSION MATRIX\")\n",
    "plt.show()"
   ]
  },
  {
   "cell_type": "code",
   "execution_count": 103,
   "id": "8a4068a8",
   "metadata": {},
   "outputs": [
    {
     "data": {
      "image/png": "[encoded data removed]",
      "text/plain": [
       "<Figure size 432x432 with 2 Axes>"
      ]
     },
     "metadata": {
      "needs_background": "light"
     },
     "output_type": "display_data"
    }
   ],
   "source": [
    "conf_mat3 = confusion_matrix(y_test,p3) #passing test values and predicted values as parameters\n",
    "plt.figure(figsize=(6,6))\n",
    "sns.heatmap(conf_mat3,annot=True,fmt=\".0f\") #heatmap used for plotting\n",
    "plt.ylabel(\"ACTUAL\")\n",
    "plt.xlabel(\"PREDICTED\")\n",
    "plt.title(\"SVM CONFUSION MATRIX\")\n",
    "plt.show()"
   ]
  },
  {
   "cell_type": "code",
   "execution_count": 104,
   "id": "4fef23b2",
   "metadata": {},
   "outputs": [
    {
     "data": {
      "image/png": "[encoded data removed]",
      "text/plain": [
       "<Figure size 432x432 with 2 Axes>"
      ]
     },
     "metadata": {
      "needs_background": "light"
     },
     "output_type": "display_data"
    }
   ],
   "source": [
    "conf_mat4 = confusion_matrix(y_test,p4) #passing test values and predicted values as parameters\n",
    "plt.figure(figsize=(6,6))\n",
    "sns.heatmap(conf_mat4,annot=True,fmt=\".0f\") #heatmap used for plotting\n",
    "plt.ylabel(\"ACTUAL\")\n",
    "plt.xlabel(\"PREDICTED\")\n",
    "plt.title(\"NAIVE BAYES CONFUSION MATRIX\")\n",
    "plt.show()"
   ]
  },
  {
   "cell_type": "code",
   "execution_count": 105,
   "id": "25fa8632",
   "metadata": {},
   "outputs": [
    {
     "data": {
      "image/png": "[encoded data removed]",
      "text/plain": [
       "<Figure size 432x288 with 1 Axes>"
      ]
     },
     "metadata": {
      "needs_background": "light"
     },
     "output_type": "display_data"
    },
    {
     "name": "stdout",
     "output_type": "stream",
     "text": [
      "DECISION TREE AUC: 0.951115093588212\n"
     ]
    }
   ],
   "source": [
    "from sklearn.metrics import roc_curve,roc_auc_score,auc\n",
    "b=[]\n",
    "probs1=dec_tree.predict_proba(x_test) #calculating prediction probability\n",
    "preds1=probs1[:,1]\n",
    "fpr1, tpr1, threshold1 = roc_curve(y_test, preds1) #calculating true positive rate and false positive rate\n",
    "roc_auc1 = auc(fpr1, tpr1)\n",
    "plt.title('Receiver Operating Characteristics')\n",
    "plt.plot(fpr1, tpr1, 'b', label = 'AUC = %0.2f' % roc_auc1)\n",
    "plt.legend(loc = 'lower right')\n",
    "plt.plot([0, 1], [0, 1],'r--')\n",
    "plt.xlim([0, 1])\n",
    "plt.ylim([0, 1])\n",
    "plt.ylabel('True Positive Rate')\n",
    "plt.xlabel('False Positive Rate')\n",
    "plt.title(\"DECISION TREE ROC CURVE\")\n",
    "plt.show()\n",
    "b.append(roc_auc1)\n",
    "print(\"DECISION TREE AUC:\",roc_auc_score(y_test,preds1))"
   ]
  },
  {
   "cell_type": "code",
   "execution_count": 106,
   "id": "fabff750",
   "metadata": {},
   "outputs": [
    {
     "data": {
      "image/png": "[encoded data removed]",
      "text/plain": [
       "<Figure size 432x288 with 1 Axes>"
      ]
     },
     "metadata": {
      "needs_background": "light"
     },
     "output_type": "display_data"
    },
    {
     "name": "stdout",
     "output_type": "stream",
     "text": [
      "RANDOM FOREST ROC AUC: 0.9950766626841895\n"
     ]
    }
   ],
   "source": [
    "probs2=rand_forest.predict_proba(x_test) \n",
    "preds2=probs2[:,1]\n",
    "fpr2, tpr2, threshold2 = roc_curve(y_test, preds2) \n",
    "roc_auc2 = auc(fpr2, tpr2)\n",
    "plt.title('Receiver Operating Characteristics')\n",
    "plt.plot(fpr2, tpr2, 'b', label = 'AUC = %0.2f' % roc_auc2)\n",
    "plt.legend(loc = 'lower right')\n",
    "plt.plot([0, 1], [0, 1],'r--')\n",
    "plt.xlim([0, 1])\n",
    "plt.ylim([0, 1])\n",
    "plt.ylabel('True Positive Rate')\n",
    "plt.xlabel('False Positive Rate')\n",
    "plt.title(\"RANDOM FOREST ROC CURVE\")\n",
    "plt.show()\n",
    "b.append(roc_auc2)\n",
    "print(\"RANDOM FOREST ROC AUC:\",roc_auc_score(y_test,preds2))"
   ]
  },
  {
   "cell_type": "code",
   "execution_count": 107,
   "id": "9edfc9cd",
   "metadata": {},
   "outputs": [
    {
     "data": {
      "image/png": "[encoded data removed]",
      "text/plain": [
       "<Figure size 432x288 with 1 Axes>"
      ]
     },
     "metadata": {
      "needs_background": "light"
     },
     "output_type": "display_data"
    },
    {
     "name": "stdout",
     "output_type": "stream",
     "text": [
      "SVM ROC AUC: 0.6784747112704103\n"
     ]
    }
   ],
   "source": [
    "fpr3, tpr3, threshold3 = roc_curve(y_test, p3) \n",
    "roc_auc3 = auc(fpr3, tpr3)\n",
    "plt.title('Receiver Operating Characteristics')\n",
    "plt.plot(fpr3, tpr3, 'b', label = 'AUC = %0.2f' % roc_auc3)\n",
    "plt.legend(loc = 'lower right')\n",
    "plt.plot([0, 1], [0, 1],'r--')\n",
    "plt.xlim([0, 1])\n",
    "plt.ylim([0, 1])\n",
    "plt.ylabel('True Positive Rate')\n",
    "plt.xlabel('False Positive Rate')\n",
    "plt.title(\"SVM ROC CURVE\")\n",
    "plt.show()\n",
    "b.append(roc_auc3)\n",
    "print(\"SVM ROC AUC:\",roc_auc_score(y_test,p3))"
   ]
  },
  {
   "cell_type": "code",
   "execution_count": 108,
   "id": "44b0c60e",
   "metadata": {},
   "outputs": [
    {
     "data": {
      "image/png": "[encoded data removed]",
      "text/plain": [
       "<Figure size 432x288 with 1 Axes>"
      ]
     },
     "metadata": {
      "needs_background": "light"
     },
     "output_type": "display_data"
    },
    {
     "name": "stdout",
     "output_type": "stream",
     "text": [
      "NAIVE BAYES ROC AUC: 0.9568299482277978\n"
     ]
    }
   ],
   "source": [
    "probs3=naive_bayes.predict_proba(x_test) \n",
    "preds3=probs3[:,1]\n",
    "fpr4, tpr4, threshold4 = roc_curve(y_test, preds3) \n",
    "roc_auc4 = auc(fpr4, tpr4)\n",
    "plt.title('Receiver Operating Characteristics')\n",
    "plt.plot(fpr2, tpr2, 'b', label = 'AUC = %0.2f' % roc_auc4)\n",
    "plt.legend(loc = 'lower right')\n",
    "plt.plot([0, 1], [0, 1],'r--')\n",
    "plt.xlim([0, 1])\n",
    "plt.ylim([0, 1])\n",
    "plt.ylabel('True Positive Rate')\n",
    "plt.xlabel('False Positive Rate')\n",
    "plt.title(\"NAIVE BAYES ROC CURVE\")\n",
    "plt.show()\n",
    "b.append(roc_auc4)\n",
    "print(\"NAIVE BAYES ROC AUC:\",roc_auc_score(y_test,preds3))"
   ]
  },
  {
   "cell_type": "code",
   "execution_count": 109,
   "id": "e94ecce4",
   "metadata": {},
   "outputs": [
    {
     "data": {
      "image/png": "[encoded data removed]",
      "text/plain": [
       "<Figure size 432x288 with 1 Axes>"
      ]
     },
     "metadata": {
      "needs_background": "light"
     },
     "output_type": "display_data"
    }
   ],
   "source": [
    "a=[\"DECISION TREE\",\"RANDOM FOREST\",\"SVM\",\"NAIVE BAYES\"]\n",
    "plt.plot(a,b,color='red')\n",
    "plt.title('AUC OF ALL MODELS')\n",
    "plt.xlabel('MODEL')\n",
    "plt.ylabel('AUC SCORE')\n",
    "plt.show()"
   ]
  },
  {
   "cell_type": "code",
   "execution_count": null,
   "id": "5e71cdcf",
   "metadata": {},
   "outputs": [],
   "source": [
    "#CONCLUSION\n",
    "Based on precision,F1-Score,recall values, prediction pie chart, accuracy score, confusion matrix,\n",
    "roc curve and Aucklands line graph, we can say that random forest classification is best suited for \n",
    "this problem where we are predicting the person as male/female based upon their voice signals. \n",
    "Support vector machine is least suitable based on same analysis."
   ]
  }
 ],
 "metadata": {
  "kernelspec": {
   "display_name": "Python 3 (ipykernel)",
   "language": "python",
   "name": "python3"
  },
  "language_info": {
   "codemirror_mode": {
    "name": "ipython",
    "version": 3
   },
   "file_extension": ".py",
   "mimetype": "text/x-python",
   "name": "python",
   "nbconvert_exporter": "python",
   "pygments_lexer": "ipython3",
   "version": "3.9.7"
  }
 },
 "nbformat": 4,
 "nbformat_minor": 5
}
